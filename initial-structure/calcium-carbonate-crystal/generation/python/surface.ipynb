{
 "cells": [
  {
   "cell_type": "markdown",
   "metadata": {},
   "source": [
    "# Create CaCO3 crystals with different surface terminations"
   ]
  },
  {
   "cell_type": "markdown",
   "metadata": {},
   "source": [
    "## Set up"
   ]
  },
  {
   "cell_type": "markdown",
   "metadata": {},
   "source": [
    "Import dependencies"
   ]
  },
  {
   "cell_type": "code",
   "execution_count": 1,
   "metadata": {},
   "outputs": [
    {
     "name": "stderr",
     "output_type": "stream",
     "text": [
      "/home/aglisman/miniconda3/envs/pymatgen/lib/python3.9/site-packages/tqdm/auto.py:21: TqdmWarning: IProgress not found. Please update jupyter and ipywidgets. See https://ipywidgets.readthedocs.io/en/stable/user_install.html\n",
      "  from .autonotebook import tqdm as notebook_tqdm\n",
      "/home/aglisman/miniconda3/envs/pymatgen/lib/python3.9/site-packages/Bio/pairwise2.py:278: BiopythonDeprecationWarning: Bio.pairwise2 has been deprecated, and we intend to remove it in a future release of Biopython. As an alternative, please consider using Bio.Align.PairwiseAligner as a replacement, and contact the Biopython developers if you still need the Bio.pairwise2 module.\n",
      "  warnings.warn(\n"
     ]
    }
   ],
   "source": [
    "import MDAnalysis as mda\n",
    "from MDAnalysis import transformations\n",
    "import numpy as np\n",
    "from openbabel import openbabel as ob\n",
    "import os\n",
    "from pymatgen.core.structure import Structure\n",
    "from pymatgen.core.surface import SlabGenerator\n",
    "from pymatgen.symmetry.analyzer import SpacegroupAnalyzer\n",
    "from pymatgen.io.babel import BabelMolAdaptor\n",
    "import warnings"
   ]
  },
  {
   "cell_type": "markdown",
   "metadata": {},
   "source": [
    "Helper functions"
   ]
  },
  {
   "cell_type": "code",
   "execution_count": 2,
   "metadata": {},
   "outputs": [],
   "source": [
    "def conv_hex_to_cubic_idx(hex_idx):\n",
    "    \"\"\"\n",
    "    Converts a hexagonal index to a cubic index.\n",
    "    \"\"\"\n",
    "    assert(len(hex_idx) == 4)\n",
    "    return (hex_idx[0], hex_idx[1], hex_idx[3])"
   ]
  },
  {
   "cell_type": "markdown",
   "metadata": {},
   "source": [
    "## Data source and preparation"
   ]
  },
  {
   "cell_type": "code",
   "execution_count": 3,
   "metadata": {},
   "outputs": [],
   "source": [
    "# location of calcite cif file\n",
    "crystals = [\"calcite_297K\", \"aragonite\", \"vaterite\"]\n",
    "crystal_dims = {\n",
    "    \"calcite_297K\": (0.50, 0.43),\n",
    "    \"aragonite\": (0.50, 0.81),\n",
    "    \"vaterite\": (0.50, 0.81),\n",
    "}\n",
    "\n",
    "# which crystal to use\n",
    "crystal = crystals[0]\n",
    "# whether to create a supercell by replicating the unit cell\n",
    "supercell = True\n",
    "# box length in nanometers\n",
    "cubic_box_length_nm = 12\n",
    "# slab thickness in angstroms\n",
    "slab_thickness = 9\n",
    "# miller indices of the surface\n",
    "miller = conv_hex_to_cubic_idx((0, 0, 0, 1))\n",
    "\n",
    "\n",
    "calcite_file = f\"./../american-mineralogist-crystal-structure-database/{crystal}/AMS_DATA.cif\"\n",
    "\n",
    "\n",
    "# number of cells in the slab (z-axis is perpendicular to the surface)\n",
    "if supercell:\n",
    "    supercell_size = (\n",
    "        np.round(cubic_box_length_nm / crystal_dims[crystal][0]),\n",
    "        np.round(cubic_box_length_nm / crystal_dims[crystal][1]),\n",
    "        1\n",
    "    )\n",
    "else:\n",
    "    supercell_size = (1, 1, 1)\n",
    "\n",
    "\n",
    "# vacuum thickness in angstroms\n",
    "vacuum_thickness = (cubic_box_length_nm * 10) - slab_thickness\n"
   ]
  },
  {
   "cell_type": "markdown",
   "metadata": {},
   "source": [
    "### Conventional unit cell"
   ]
  },
  {
   "cell_type": "code",
   "execution_count": 4,
   "metadata": {},
   "outputs": [
    {
     "name": "stdout",
     "output_type": "stream",
     "text": [
      "Conventional calcite cell\n",
      "Calcite space group is R-3c\n",
      "Is calcite lattice hexagonal? True\n",
      "\n",
      "Full Formula (Ca6 C6 O18)\n",
      "Reduced Formula: CaCO3\n",
      "abc   :   4.988000   4.988000  17.061000\n",
      "angles:  90.000000  90.000000 120.000000\n",
      "pbc   :       True       True       True\n"
     ]
    }
   ],
   "source": [
    "# load calcite crystal structure\n",
    "calcite = Structure.from_file(calcite_file, primitive=False)\n",
    "calcite.add_oxidation_state_by_element({\"Ca\": 2, \"C\": 4, \"O\": -2})\n",
    "sga = SpacegroupAnalyzer(calcite)\n",
    "calcite_conv = sga.get_conventional_standard_structure()\n",
    "\n",
    "# print surface slab data\n",
    "input = calcite_conv\n",
    "print(\"Conventional calcite cell\")\n",
    "print(f\"Calcite space group is {sga.get_space_group_symbol()}\")\n",
    "print(f\"Is calcite lattice hexagonal? {input.lattice.is_hexagonal()}\")\n",
    "print()\n",
    "\n",
    "info = str(input).split(\"\\n\")\n",
    "for i in range(5):\n",
    "    print(info[i])"
   ]
  },
  {
   "cell_type": "markdown",
   "metadata": {},
   "source": [
    "### Primitive cell (not used)"
   ]
  },
  {
   "cell_type": "code",
   "execution_count": 5,
   "metadata": {},
   "outputs": [
    {
     "name": "stdout",
     "output_type": "stream",
     "text": [
      "Primitive calcite cell\n",
      "Calcite space group is R-3c\n",
      "Is calcite lattice hexagonal? False\n",
      "\n",
      "Full Formula (Ca2 C2 O6)\n",
      "Reduced Formula: CaCO3\n",
      "abc   :   4.988000   4.988000   6.374586\n",
      "angles:  66.968255  66.968255  60.000000\n",
      "pbc   :       True       True       True\n"
     ]
    }
   ],
   "source": [
    "# load calcite crystal structure\n",
    "calcite_prim = Structure.from_file(calcite_file, primitive=True)\n",
    "calcite_prim.add_oxidation_state_by_element({\"Ca\": 2, \"C\": 4, \"O\": -2})\n",
    "\n",
    "# print surface slab data\n",
    "input = calcite_prim\n",
    "print(\"Primitive calcite cell\")\n",
    "print(f\"Calcite space group is {sga.get_space_group_symbol()}\")\n",
    "print(f\"Is calcite lattice hexagonal? {input.lattice.is_hexagonal()}\")\n",
    "print()\n",
    "\n",
    "info = str(input).split(\"\\n\")\n",
    "for i in range(5):\n",
    "    print(info[i])"
   ]
  },
  {
   "cell_type": "markdown",
   "metadata": {},
   "source": [
    "## Crystal surface"
   ]
  },
  {
   "cell_type": "code",
   "execution_count": 6,
   "metadata": {},
   "outputs": [],
   "source": [
    "# make calcite (1 0 -1 4) surface\n",
    "calcite_104 = SlabGenerator(\n",
    "                        # initial structure\n",
    "                        calcite_conv,\n",
    "                        # miller index\n",
    "                        miller_index=miller,\n",
    "                        # Minimum size in angstroms of layers containing atoms\n",
    "                        min_slab_size=slab_thickness,\n",
    "                        # Minimum size in angstroms of layers containing vacuum\n",
    "                        min_vacuum_size=vacuum_thickness,\n",
    "                        # LLL reduction of lattice\n",
    "                        lll_reduce=False,\n",
    "                        # center the slab in the cell with equal vacuum \n",
    "                        # spacing from the top and bottom\n",
    "                        center_slab=True,\n",
    "                        # set min_slab_size and min_vac_size in units of \n",
    "                        # hkl planes (True) or Angstrom (False/default)\n",
    "                        in_unit_planes=False, \n",
    "                        # reduce any generated slabs to a primitive cell\n",
    "                        primitive=True,\n",
    "                        # reorients the lattice parameters such that the \n",
    "                        # c direction is along the z axis\n",
    "                        reorient_lattice=True,\n",
    "                )\n",
    "\n",
    "slabs = calcite_104.get_slabs()"
   ]
  },
  {
   "cell_type": "markdown",
   "metadata": {},
   "source": [
    "Slabs also have a number of unique properties that are important when simulating them. Two very important properties are whether they are symmetric and polar. Polar surfaces can be more difficult to relax and compute because they naturally have a redistribution of charge. There are tricks that can be played in many DFT codes to fix this, but all cause other problems. Non-symmetric slabs make computing surface energies more difficult, as you can only compute the average surface energy of the two surfaces together. Let's run a loop over our surfaces and see which ones are polar and which ones are symmetric."
   ]
  },
  {
   "cell_type": "code",
   "execution_count": 7,
   "metadata": {},
   "outputs": [
    {
     "name": "stdout",
     "output_type": "stream",
     "text": [
      "There are 1 surface structure choices.\n",
      "\n",
      "Slab 0\n",
      "\tPolar: True\n",
      "\tSymmetric: False\n"
     ]
    }
   ],
   "source": [
    "# print calcite surface information\n",
    "print(f\"There are {len(slabs)} surface structure choices.\\n\")\n",
    "\n",
    "for n, slab in enumerate(slabs):\n",
    "    print(f\"Slab {n}\\n\\tPolar: {slab.is_polar()}\\n\\tSymmetric: {slab.is_symmetric()}\")"
   ]
  },
  {
   "cell_type": "markdown",
   "metadata": {},
   "source": [
    "### Save slabs"
   ]
  },
  {
   "cell_type": "code",
   "execution_count": 8,
   "metadata": {},
   "outputs": [],
   "source": [
    "n_lines = 6\n",
    "fname_base = f\"{crystal}-{''.join([str(s) for s in miller])}_surface\""
   ]
  },
  {
   "cell_type": "code",
   "execution_count": 9,
   "metadata": {},
   "outputs": [
    {
     "name": "stderr",
     "output_type": "stream",
     "text": [
      "/tmp/ipykernel_3116566/2204688066.py:4: UserWarning: Slab is not symmetric.\n",
      "  warnings.warn(f\"Slab is not symmetric.\")\n"
     ]
    },
    {
     "name": "stdout",
     "output_type": "stream",
     "text": [
      "Name: calcite_297K-001_surface-11.97_12.10_13.65_nm_size-True_polar-False_symmetric\n",
      "Full Formula (Ca4032 C4032 O12096)\n",
      "Reduced Formula: CaCO3\n",
      "abc   : 119.712000 139.664000 136.488000\n",
      "angles:  90.000000  90.000000 120.000000\n",
      "pbc   :       True       True       True\n",
      "Sites (20160)\n",
      "Processed info\n",
      "\tNumber of atoms: 20160\n",
      "\tNumber of bonds: 11982\n",
      "\tNumber of residues: 0\n",
      "\tAtom counts: {'C2': 2, 'C3': 1287, 'Ca': 4032, 'Cac': 2743, 'O.co2': 8187, 'O2': 3785, 'O3': 124}\n"
     ]
    },
    {
     "name": "stderr",
     "output_type": "stream",
     "text": [
      "/tmp/ipykernel_3116566/2204688066.py:126: UserWarning: Assertion error: Carbonate 4041 has 3 bonded atoms\n",
      "  warnings.warn(f\"Assertion error: {e}\")\n",
      "/home/aglisman/miniconda3/envs/pymatgen/lib/python3.9/site-packages/MDAnalysis/core/groups.py:440: DeprecationWarning: The 'pbc' kwarg has been deprecated and will be removed in version 3.0., please use 'wrap' instead\n",
      "  warnings.warn(\"The 'pbc' kwarg has been deprecated and will be \"\n",
      "/home/aglisman/miniconda3/envs/pymatgen/lib/python3.9/site-packages/MDAnalysis/coordinates/PDB.py:1126: UserWarning: Found missing chainIDs. Corresponding atoms will use value of 'X'\n",
      "  warnings.warn(\"Found missing chainIDs.\"\n"
     ]
    },
    {
     "name": "stdout",
     "output_type": "stream",
     "text": [
      "\n",
      "\n"
     ]
    }
   ],
   "source": [
    "for slab in slabs:\n",
    "    # if slab is not symmetric, skip\n",
    "    if not slab.is_symmetric():\n",
    "        warnings.warn(f\"Slab is not symmetric.\")\n",
    "\n",
    "    # convert slab to supercell\n",
    "    supercell = slab * supercell_size\n",
    "\n",
    "    # get dimensions of supercell\n",
    "    supercell_dims = supercell.lattice.matrix.diagonal() / 10.0\n",
    "    supercell_dims = \"_\".join([f\"{dim:.2f}\" for dim in supercell_dims])\n",
    "    fname = f\"{fname_base}-{supercell_dims}_nm_size-{slab.is_polar()}_polar-{slab.is_symmetric()}_symmetric\"\n",
    "\n",
    "    # write cif file\n",
    "    supercell.to(filename=f\"{fname}.cif\", fmt=\"cif\")\n",
    "    \n",
    "    # print supercell info\n",
    "    print(f\"Name: {fname}\")\n",
    "    info = str(supercell).split(\"\\n\")\n",
    "    for i in range(n_lines):\n",
    "        print(info[i])\n",
    "\n",
    "    # use OpenBabel to read cif file and add bonds\n",
    "    mol = ob.OBMol()\n",
    "    obConversion = ob.OBConversion()\n",
    "    obConversion.SetInAndOutFormats(\"cif\", \"pdb\")\n",
    "    obConversion.ReadFile(mol, f\"{fname}.cif\")\n",
    "    \n",
    "    # iterate through atoms and if atom type is Ca, remove bonds to other atoms\n",
    "    mol.ConnectTheDots()\n",
    "    bonds = []\n",
    "    for atom in ob.OBMolAtomIter(mol):\n",
    "        if atom.GetType() == \"Ca\":\n",
    "            for bond in ob.OBAtomBondIter(atom):\n",
    "                bonds.append(bond)\n",
    "    for bond in bonds:\n",
    "        mol.DeleteBond(bond)\n",
    "\n",
    "    # print molecule info\n",
    "    print(f\"Processed info\")\n",
    "    print(f\"\\tNumber of atoms: {mol.NumAtoms()}\")\n",
    "    print(f\"\\tNumber of bonds: {mol.NumBonds()}\")\n",
    "    print(f\"\\tNumber of residues: {mol.NumResidues()}\")\n",
    "    # get number of atoms of each type\n",
    "    atom_types = [atom.GetType() for atom in ob.OBMolAtomIter(mol)]\n",
    "    atom_types, atom_counts = np.unique(atom_types, return_counts=True)\n",
    "    print(f\"\\tAtom counts: {dict(zip(atom_types, atom_counts))}\")\n",
    "    # write pdb file\n",
    "    obConversion.WriteFile(mol, f\"{fname}.pdb\")\n",
    "    # delete cif file\n",
    "    os.remove(f\"{fname}.cif\")\n",
    "\n",
    "    # load broken structure with MDA\n",
    "    u = mda.Universe(f\"{fname}.pdb\", guess_bonds=True, vdwradii={\"Ca\": 0.0, \"C\": 0.7, \"O\": 0.6}, topology_format=\"PDB\")\n",
    "    # remove pdf file\n",
    "    os.remove(f\"{fname}.pdb\")\n",
    "\n",
    "    try:\n",
    "        # find isolated oxygen atoms and add bonds to the closest carbon atom\n",
    "        for i, atom in enumerate(u.atoms):\n",
    "            name = atom.name\n",
    "            res = atom.residue.resname\n",
    "\n",
    "            bonds = []\n",
    "            if res != \"UNL\":\n",
    "                if len(atom.bonds) == 0:\n",
    "                    # find closest carbon atom and add a bond\n",
    "                    sel_c = u.select_atoms(f\"element C and around 1.3 index {i}\")\n",
    "                    n_atom_sel = sel_c.n_atoms\n",
    "                    assert n_atom_sel == 1, f\"{n_atom_sel} carbon atoms found around atom {i}\"\n",
    "                    # add bond between atom and sel_c\n",
    "                    u.add_bonds([(atom.index, sel_c[0].index)])\n",
    "\n",
    "            # set atom name\n",
    "            if name == \"CA\":\n",
    "                atom.name = \"CA\"\n",
    "            elif name == \"C\":\n",
    "                atom.name = \"CX1\"\n",
    "            elif name == \"O\":\n",
    "                atom.name = \"OX1\"\n",
    "\n",
    "        # set residue name and update atom names for oxygens\n",
    "        for i, atom in enumerate(u.atoms):\n",
    "\n",
    "            # calcium is a monatomic ion\n",
    "            if atom.name == \"CA\":\n",
    "                atom.residue.resname = \"CA\"\n",
    "                continue\n",
    "\n",
    "            # set residue name and number for oxygens with carbon\n",
    "            if atom.name in [\"OX1\", \"OX2\", \"OX3\"]:\n",
    "                atom.residue.resname = \"CRB\"\n",
    "                continue\n",
    "        \n",
    "            # change carboxylate oxygen atom names\n",
    "            for j, at in enumerate(atom.bonded_atoms):\n",
    "                at.name = f\"OX{j+1}\"\n",
    "\n",
    "            # set residue name and number for carbonate ion\n",
    "            group = atom.bonded_atoms + atom\n",
    "            assert len(group) == 4, f\"Carbonate at atom {i} has {len(group)} bonded atoms\"\n",
    "            for j, at in enumerate(group):\n",
    "                at.residue.resname = \"CRB\"\n",
    "\n",
    "        # check bond orders\n",
    "        for i, atom in enumerate(u.atoms):\n",
    "            name = atom.name\n",
    "            res = atom.residue.resname\n",
    "\n",
    "            # assert that all oxygen atoms are bound to a carbon atom\n",
    "            if name in [\"OX1\", \"OX2\", \"OX3\"]:\n",
    "                assert len(atom.bonds) == 1, f\"Atom {i} is not bound to any carbon atom\"\n",
    "            # assert that all carbon atoms are bound to 3 oxygen atoms\n",
    "            if name == \"CX1\":\n",
    "                assert len(atom.bonds) == 3, f\"Atom {i} is not bound to 3 oxygen atoms\"\n",
    "            # assert that all calcium atoms are bound to no other atoms\n",
    "            if name == \"CA\":\n",
    "                assert len(atom.bonds) == 0, f\"Atom {i} is bound to {len(atom.bonds)} atoms\"\n",
    "\n",
    "        # check that no atoms have the same coordinates\n",
    "        coords = u.atoms.positions\n",
    "        assert len(coords) == len(np.unique(coords, axis=0)), \"Atoms have the same coordinates\"\n",
    "\n",
    "\n",
    "    except AssertionError as e:\n",
    "        warnings.warn(f\"Assertion error: {e}\")\n",
    "        fname = f\"{fname}_broken\"\n",
    "\n",
    "    # unwrap all atoms\n",
    "    transform = [\n",
    "            transformations.unwrap(u.atoms),\n",
    "            transformations.center_in_box(u.atoms),\n",
    "            transformations.wrap(u.atoms, compound='fragments'),\n",
    "    ]\n",
    "    u.trajectory.add_transformations(*transform)\n",
    "\n",
    "    # write the new structure\n",
    "    u.atoms.write(f\"{fname}.pdb\", bonds='conect', remarks=\"CaCO3 crystal structure generated with OB and MDA\", reindex=True)\n",
    "\n",
    "    print(\"\\n\")\n"
   ]
  },
  {
   "cell_type": "code",
   "execution_count": null,
   "metadata": {},
   "outputs": [],
   "source": []
  }
 ],
 "metadata": {
  "kernelspec": {
   "display_name": "Python 3 (ipykernel)",
   "language": "python",
   "name": "python3"
  },
  "language_info": {
   "codemirror_mode": {
    "name": "ipython",
    "version": 3
   },
   "file_extension": ".py",
   "mimetype": "text/x-python",
   "name": "python",
   "nbconvert_exporter": "python",
   "pygments_lexer": "ipython3",
   "version": "3.9.16"
  },
  "vscode": {
   "interpreter": {
    "hash": "d926aaeaa73c012c840f89da27c2317badc9f2b9b7532f00dab4dd85abe5f300"
   }
  }
 },
 "nbformat": 4,
 "nbformat_minor": 4
}
